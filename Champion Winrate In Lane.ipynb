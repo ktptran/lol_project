{
 "cells": [
  {
   "cell_type": "markdown",
   "metadata": {},
   "source": [
    "# Champion Winrate in Lane"
   ]
  },
  {
   "cell_type": "markdown",
   "metadata": {},
   "source": [
    "**Task One:** Provide a summarization of champion winrates in all lanes for Masters+ games in Ranked Solo/Duo queue for the current season within the KR and EUW servers.\n",
    "\n",
    "**Task Two:** Summarize champion lead through match times for every matchup.\n",
    "\n",
    "We will follow these steps: \\\n",
    "1) Connecting to a summoner profile through Riot Games API and finding the keys needed to find games. \\\n",
    "2) Extracting the champion, match Id, and role of each match played by the player for Ranked Solo/Duo Games. \\\n",
    "3) Repeat step 2 for Masters+ Tier of one server. \\\n",
    "4) Repeat steps 3 for KR and EUW servers.\n",
    "\n",
    "After steps 2-4, create a CSV file summarizing results to send to University of Washington League of Legends collegiate team."
   ]
  },
  {
   "cell_type": "code",
   "execution_count": 1,
   "metadata": {},
   "outputs": [],
   "source": [
    "import requests\n",
    "import json\n",
    "import pandas as pd\n",
    "import time"
   ]
  },
  {
   "cell_type": "markdown",
   "metadata": {},
   "source": [
    "### Part 0: Background Data "
   ]
  },
  {
   "cell_type": "markdown",
   "metadata": {},
   "source": [
    "Within Riot's API for matches, the champions only have Ids and no names associated with them. \\\n",
    "Before we investigate the matches separately, we need to have a dataFrame of all of the champions associated with their id."
   ]
  },
  {
   "cell_type": "code",
   "execution_count": 69,
   "metadata": {},
   "outputs": [],
   "source": [
    "resp_chmp = requests.get('http://ddragon.leagueoflegends.com/cdn/10.2.1/data/en_US/champion.json')\n",
    "r3 = resp_chmp.json()\n",
    "r3 = r3['data']\n",
    "chmp_name = []\n",
    "for i in r3:\n",
    "    chmp_name.append(i)\n",
    "x = {}\n",
    "for i in range(len(r3)):\n",
    "    name = chmp_name[i]\n",
    "    x[i]= int(r3[name]['key'])\n",
    "chmp = pd.DataFrame(chmp_name, columns=['Name'])\n",
    "chmp = chmp.rename(index=x).sort_index()"
   ]
  },
  {
   "cell_type": "markdown",
   "metadata": {},
   "source": [
    "### Part 1: Extracting Data per User"
   ]
  },
  {
   "cell_type": "markdown",
   "metadata": {},
   "source": [
    "Investigating user match winrate data, we will proceed with the following steps: \\\n",
    "1) Find the accountId of the summoner through Riot Games API. \\\n",
    "2) Find the set of matches for a user through Riot Games API. \\\n",
    "3) Make a dataset of champion matchups and who won or lost along with the gameId. \\\n",
    "4) Create a statistical summary of findings. "
   ]
  },
  {
   "cell_type": "code",
   "execution_count": 70,
   "metadata": {},
   "outputs": [],
   "source": [
    "# 1) Find the accountId of the summoner through Riot Games API.\n",
    "# ------------------------------------------------------------------------------\n",
    "# Returns the accountId of a user using the summonerName and API Key the user has\n",
    "# Inputs:\n",
    "#   summonerName: Name within League of Legends, case and character sensitive\n",
    "#   APIKey: API Key from Riot Games \n",
    "def accId(summonerName, APIKey):\n",
    "    URL = \"https://na1.api.riotgames.com/tft/summoner/v1/summoners/by-name/\" + summonerName + \"?api_key=\" + APIKey\n",
    "    response = requests.get(URL)\n",
    "    r1 = response.json()\n",
    "    json.dumps(r1, indent = 3, sort_keys=True)\n",
    "    return r1['accountId']"
   ]
  },
  {
   "cell_type": "code",
   "execution_count": 71,
   "metadata": {},
   "outputs": [
    {
     "name": "stdout",
     "output_type": "stream",
     "text": [
      "Type your Summoner Name here and DO NOT INCLUDE ANY SPACES: Phume\n",
      "Copy and paste your API Key here: RGAPI-4945197c-8466-4fa1-8508-4779adbddeaf\n"
     ]
    }
   ],
   "source": [
    "# 2) Find the set of matches for a user through Riot Games API.\n",
    "# ------------------------------------------------------------------------------\n",
    "# Find the accountId to get all of the matches from the summoner.\n",
    "summonerName = (str)(input('Type your Summoner Name here and DO NOT INCLUDE ANY SPACES: '))\n",
    "APIKey = (str)(input('Copy and paste your API Key here: '))\n",
    "summ_accId = accId(summonerName, APIKey)\n",
    "URL = \"https://na1.api.riotgames.com/lol/match/v4/matchlists/by-account/\" + summ_accId + \"?api_key=\" + APIKey\n",
    "response = requests.get(URL)\n",
    "r1 = response.json()\n",
    "r1 = r1['matches']\n",
    "# r1 = (json.dumps(r1, indent = 3, sort_keys=True)) # - only to view"
   ]
  },
  {
   "cell_type": "code",
   "execution_count": 72,
   "metadata": {},
   "outputs": [
    {
     "ename": "KeyError",
     "evalue": "'accountId'",
     "output_type": "error",
     "traceback": [
      "\u001b[0;31m---------------------------------------------------------------------------\u001b[0m",
      "\u001b[0;31mKeyError\u001b[0m                                  Traceback (most recent call last)",
      "\u001b[0;32m<ipython-input-72-ea7aca2ec2ae>\u001b[0m in \u001b[0;36m<module>\u001b[0;34m\u001b[0m\n\u001b[1;32m     13\u001b[0m     \u001b[0mr3\u001b[0m \u001b[0;34m=\u001b[0m \u001b[0mr3\u001b[0m\u001b[0;34m[\u001b[0m\u001b[0;34m'entries'\u001b[0m\u001b[0;34m]\u001b[0m\u001b[0;34m\u001b[0m\u001b[0;34m\u001b[0m\u001b[0m\n\u001b[1;32m     14\u001b[0m     \u001b[0;32mfor\u001b[0m \u001b[0mi\u001b[0m \u001b[0;32min\u001b[0m \u001b[0mrange\u001b[0m\u001b[0;34m(\u001b[0m\u001b[0mlen\u001b[0m\u001b[0;34m(\u001b[0m\u001b[0mr3\u001b[0m\u001b[0;34m)\u001b[0m\u001b[0;34m)\u001b[0m\u001b[0;34m:\u001b[0m\u001b[0;34m\u001b[0m\u001b[0;34m\u001b[0m\u001b[0m\n\u001b[0;32m---> 15\u001b[0;31m         \u001b[0mnames\u001b[0m\u001b[0;34m.\u001b[0m\u001b[0mappend\u001b[0m\u001b[0;34m(\u001b[0m\u001b[0maccId\u001b[0m\u001b[0;34m(\u001b[0m\u001b[0mr3\u001b[0m\u001b[0;34m[\u001b[0m\u001b[0mi\u001b[0m\u001b[0;34m]\u001b[0m\u001b[0;34m[\u001b[0m\u001b[0;34m'summonerName'\u001b[0m\u001b[0;34m]\u001b[0m\u001b[0;34m,\u001b[0m \u001b[0mAPIKey\u001b[0m\u001b[0;34m)\u001b[0m\u001b[0;34m)\u001b[0m\u001b[0;34m\u001b[0m\u001b[0;34m\u001b[0m\u001b[0m\n\u001b[0m\u001b[1;32m     16\u001b[0m \u001b[0mprint\u001b[0m\u001b[0;34m(\u001b[0m\u001b[0mnames\u001b[0m\u001b[0;34m)\u001b[0m\u001b[0;34m\u001b[0m\u001b[0;34m\u001b[0m\u001b[0m\n",
      "\u001b[0;32m<ipython-input-70-94d1aed41106>\u001b[0m in \u001b[0;36maccId\u001b[0;34m(summonerName, APIKey)\u001b[0m\n\u001b[1;32m     10\u001b[0m     \u001b[0mr1\u001b[0m \u001b[0;34m=\u001b[0m \u001b[0mresponse\u001b[0m\u001b[0;34m.\u001b[0m\u001b[0mjson\u001b[0m\u001b[0;34m(\u001b[0m\u001b[0;34m)\u001b[0m\u001b[0;34m\u001b[0m\u001b[0;34m\u001b[0m\u001b[0m\n\u001b[1;32m     11\u001b[0m     \u001b[0mjson\u001b[0m\u001b[0;34m.\u001b[0m\u001b[0mdumps\u001b[0m\u001b[0;34m(\u001b[0m\u001b[0mr1\u001b[0m\u001b[0;34m,\u001b[0m \u001b[0mindent\u001b[0m \u001b[0;34m=\u001b[0m \u001b[0;36m3\u001b[0m\u001b[0;34m,\u001b[0m \u001b[0msort_keys\u001b[0m\u001b[0;34m=\u001b[0m\u001b[0;32mTrue\u001b[0m\u001b[0;34m)\u001b[0m\u001b[0;34m\u001b[0m\u001b[0;34m\u001b[0m\u001b[0m\n\u001b[0;32m---> 12\u001b[0;31m     \u001b[0;32mreturn\u001b[0m \u001b[0mr1\u001b[0m\u001b[0;34m[\u001b[0m\u001b[0;34m'accountId'\u001b[0m\u001b[0;34m]\u001b[0m\u001b[0;34m\u001b[0m\u001b[0;34m\u001b[0m\u001b[0m\n\u001b[0m",
      "\u001b[0;31mKeyError\u001b[0m: 'accountId'"
     ]
    }
   ],
   "source": [
    "# We want to get all of the summonerIds of a queue\n",
    "names = []\n",
    "for i in range(0, 3):\n",
    "    if i == 0:\n",
    "        league = 'challenger'\n",
    "    elif i == 1:\n",
    "        league = 'grandmaster' \n",
    "    else:\n",
    "        league = 'master'\n",
    "    URL3 = \"https://na1.api.riotgames.com/lol/league/v4/\" + league + \"leagues/by-queue/RANKED_SOLO_5x5?api_key=\" + APIKey\n",
    "    response3 = requests.get(URL3)\n",
    "    r3 = response3.json()\n",
    "    r3 = r3['entries']\n",
    "    for i in range(len(r3)):\n",
    "        names.append(accId(r3[i]['summonerName'], APIKey))\n",
    "print(names)"
   ]
  },
  {
   "cell_type": "code",
   "execution_count": 41,
   "metadata": {},
   "outputs": [],
   "source": [
    "# Returns a summary of all solo queue matches from the summoner with their champion and gameId\n",
    "summ = pd.DataFrame(columns =  [\"region\", \"gameId\", \"lane\", \"role\", \"Name\"])\n",
    "for i in range(len(r1)):\n",
    "    if r1[i]['queue'] == 420:\n",
    "        platformId = r1[i]['platformId']\n",
    "        gameId = r1[i]['gameId'] \n",
    "        lane = r1[i]['lane']\n",
    "        role = r1[i]['role']\n",
    "        arr = chmp.loc[chmp['ID'] == str(r1[i]['champion'])]['Name'].array\n",
    "        name = arr[0]\n",
    "        hold = pd.Series([platformId, gameId, lane, role, name], index = [\"region\", \"gameId\", \"lane\", \"role\", \"Name\"])\n",
    "        summ = summ.append(hold, ignore_index = True)\n",
    "\n",
    "# We need to dive into the game and find the champion they are going against as well. We only have the championname.\n",
    "# Use the gameId. Limited by number of API calls though for every gameId, so make sure unique."
   ]
  },
  {
   "cell_type": "code",
   "execution_count": 118,
   "metadata": {},
   "outputs": [
    {
     "data": {
      "text/plain": [
       "71"
      ]
     },
     "execution_count": 118,
     "metadata": {},
     "output_type": "execute_result"
    }
   ],
   "source": [
    "len(summ['gameId'])"
   ]
  },
  {
   "cell_type": "code",
   "execution_count": 126,
   "metadata": {},
   "outputs": [
    {
     "name": "stdout",
     "output_type": "stream",
     "text": [
      "         Champ1    Champ2 Win_Champ1 Win_Champ2          role\n",
      "DrVeBO   Draven    Veigar          0          1  BOTTOM_CARRY\n",
      "LeSoSU    Leona    Soraka          0          1       SUPPORT\n",
      "KaJaJU  Karthus  JarvanIV          0          1        JUNGLE\n",
      "SwSyMI    Swain    Syndra          0          1           MID\n",
      "RuYoTO   Rumble    Yorick          0          1           TOP\n",
      "...         ...       ...        ...        ...           ...\n",
      "DiSiTO    Diana    Singed          0          1           TOP\n",
      "DrEzBO   Draven    Ezreal          0          1  BOTTOM_CARRY\n",
      "ReKaJU   RekSai   Karthus          0          1        JUNGLE\n",
      "FiVlMI     Fizz  Vladimir          0          1           MID\n",
      "AkViTO    Akali    Viktor          0          1           TOP\n",
      "\n",
      "[336 rows x 5 columns]\n"
     ]
    }
   ],
   "source": [
    "# Works for the lengh\n",
    "mtchup = pd.DataFrame(columns = [\"Champ1\", \"Champ2\", \"Win_Champ1\", \"Win_Champ2\", \"role\"])\n",
    "for j in range(len(summ['gameId'])):\n",
    "    gameId = summ['gameId'][j]\n",
    "    URL_mch = \"https://na1.api.riotgames.com/lol/match/v4/matches/\" + str(gameId) + \"?api_key=\" + APIKey\n",
    "    response = requests.get(URL_mch)\n",
    "    r1 = response.json()\n",
    "    r1 = r1['participants']\n",
    "    match = pd.DataFrame(columns =  [\"champ\", \"win\", \"lane\", \"role\"])\n",
    "    for i in range(len(r1)):\n",
    "        arr = chmp.loc[chmp['ID'] == str(r1[i]['championId'])]['Name'].array\n",
    "        name = arr[0]\n",
    "        win = r1[i]['stats']['win']\n",
    "        lane = r1[i]['timeline']['lane']\n",
    "        role = r1[i]['timeline']['role']\n",
    "        if role == \"DUO_SUPPORT\":\n",
    "            role = \"SUPPORT\"\n",
    "        elif role == \"DUO_CARRY\":\n",
    "            role = \"BOTTOM_CARRY\"\n",
    "        elif role == \"NONE\":\n",
    "            role = \"JUNGLE\"\n",
    "        elif role == \"SOLO\" and lane == \"MIDDLE\":\n",
    "            role = \"MID\"\n",
    "        else:\n",
    "            role = \"TOP\"\n",
    "        entry = pd.Series([name, win, lane, role], index = [\"champ\", \"win\", \"lane\", \"role\"])\n",
    "        match = match.append(entry, ignore_index = True)\n",
    "    # Puts it into an order where you can put in the values together by indexing over match\n",
    "    match = match.sort_values(by=['lane', 'role', 'win'])\n",
    "    for i in range(0, len(match), 2):\n",
    "        Champ1 = match.iloc[i]['champ']\n",
    "        Champ2 = match.iloc[i + 1]['champ'] # we always know the second champ won\n",
    "        role = match.iloc[i]['role']\n",
    "        name = Champ1[0:2] + Champ2[0:2] + role[0:2]\n",
    "        # If there is a value of Champ1, champ2, then you increment the win_champ2 by 1\n",
    "        if not(mtchup[(mtchup.Champ1 == Champ1) & (mtchup.Champ2 == Champ2) & (mtchup.role == role)].empty):\n",
    "            mtchup.at[name, 'Win_Champ2'] = mtchup.at[name, 'Win_Champ2'] + 1\n",
    "        # If there is a value of Champ1, champ2, but swapped, then you incrmeent the win_champ1 by 1\n",
    "        elif not(mtchup[(mtchup.Champ1 == Champ1) & (mtchup.Champ2 == Champ2) & (mtchup.role == role)].empty):\n",
    "            mtchup.at[name, 'Win_Champ1'] = mtchup.at[name, 'Win_Champ1'] + 1\n",
    "        # There is no current entry so you create a new series to append into the matchup and set the values as necessary\n",
    "        else:\n",
    "            score = pd.Series([Champ1, Champ2, 0, 1, role], index = [\"Champ1\", \"Champ2\", \"Win_Champ1\", \"Win_Champ2\", \"role\"]).rename(name)\n",
    "            mtchup = mtchup.append(score)"
   ]
  },
  {
   "cell_type": "code",
   "execution_count": 127,
   "metadata": {},
   "outputs": [],
   "source": [
    "file_path=r'winrates.xlsx'\n",
    "sum_stats=pd.ExcelWriter(file_path)\n",
    "mtchup.to_excel(sum_stats)\n",
    "sum_stats.save()\n",
    "sum_stats.close()"
   ]
  },
  {
   "cell_type": "code",
   "execution_count": 43,
   "metadata": {},
   "outputs": [
    {
     "name": "stdout",
     "output_type": "stream",
     "text": [
      "      champ    win    lane          role\n",
      "5    Draven  False  BOTTOM  BOTTOM_CARRY\n",
      "4    Veigar   True  BOTTOM  BOTTOM_CARRY\n",
      "9     Leona  False  BOTTOM       SUPPORT\n",
      "3    Soraka   True  BOTTOM       SUPPORT\n",
      "6   Karthus  False  JUNGLE        JUNGLE\n",
      "1  JarvanIV   True  JUNGLE        JUNGLE\n",
      "8     Swain  False  MIDDLE           MID\n",
      "2    Syndra   True  MIDDLE           MID\n",
      "7    Rumble  False     TOP           TOP\n",
      "0    Yorick   True     TOP           TOP\n"
     ]
    }
   ],
   "source": [
    "# Doing for testing\n",
    "gameId = \"3225011906\"\n",
    "URL_mch = \"https://na1.api.riotgames.com/lol/match/v4/matches/\" + gameId + \"?api_key=\" + APIKey\n",
    "# Looking at only 1 game\n",
    "response = requests.get(URL_mch)\n",
    "r1 = response.json()\n",
    "r1 = r1['participants']\n",
    "match = pd.DataFrame(columns =  [\"champ\", \"win\", \"lane\", \"role\"])\n",
    "for i in range(len(r1)):\n",
    "    arr = chmp.loc[chmp['ID'] == str(r1[i]['championId'])]['Name'].array\n",
    "    name = arr[0]\n",
    "    win = r1[i]['stats']['win']\n",
    "    lane = r1[i]['timeline']['lane']\n",
    "    role = r1[i]['timeline']['role']\n",
    "    if role == \"DUO_SUPPORT\":\n",
    "        role = \"SUPPORT\"\n",
    "    elif role == \"DUO_CARRY\":\n",
    "        role = \"BOTTOM_CARRY\"\n",
    "    elif role == \"NONE\":\n",
    "        role = \"JUNGLE\"\n",
    "    elif role == \"SOLO\" and lane == \"MIDDLE\":\n",
    "        role = \"MID\"\n",
    "    else:\n",
    "        role = \"TOP\"\n",
    "    entry = pd.Series([name, win, lane, role], index = [\"champ\", \"win\", \"lane\", \"role\"])\n",
    "    match = match.append(entry, ignore_index = True)\n",
    "# Puts it into an order where you can put in the values together by indexing over match\n",
    "match = match.sort_values(by=['lane', 'role', 'win'])\n",
    "print(match)\n"
   ]
  },
  {
   "cell_type": "code",
   "execution_count": 111,
   "metadata": {},
   "outputs": [
    {
     "name": "stdout",
     "output_type": "stream",
     "text": [
      "         Champ1    Champ2 Win_Champ1 Win_Champ2          role\n",
      "DrVeBO   Draven    Veigar          0          1  BOTTOM_CARRY\n",
      "LeSoSU    Leona    Soraka          0          1       SUPPORT\n",
      "KaJaJU  Karthus  JarvanIV          0          1        JUNGLE\n",
      "SwSyMI    Swain    Syndra          0          1           MID\n",
      "RuYoTO   Rumble    Yorick          0          1           TOP\n"
     ]
    }
   ],
   "source": [
    "# This is the internal part of a for loop that encompasses looking through \n",
    "mtchup = pd.DataFrame(columns = [\"Champ1\", \"Champ2\", \"Win_Champ1\", \"Win_Champ2\", \"role\"])\n",
    "for i in range(0, len(match), 2):\n",
    "    Champ1 = match.iloc[i]['champ']\n",
    "    Champ2 = match.iloc[i + 1]['champ'] # we always know the second champ won\n",
    "    role = match.iloc[i]['role']\n",
    "    name = Champ1[0:2] + Champ2[0:2] + role[0:2]\n",
    "    # If there is a value of Champ1, champ2, then you increment the win_champ2 by 1\n",
    "    if not(mtchup[(mtchup.Champ1 == Champ1) & (mtchup.Champ2 == Champ2)].empty):\n",
    "        mtchup.at[name, 'Win_Champ2'] = mtchup.at[name, 'Win_Champ2'] + 1\n",
    "    # If there is a value of Champ1, champ2, but swapped, then you incrmeent the win_champ1 by 1\n",
    "    elif not(mtchup[(mtchup.Champ1 == Champ1) & (mtchup.Champ2 == Champ2)].empty):\n",
    "        mtchup.at[name, 'Win_Champ1'] = mtchup.at[name, 'Win_Champ1'] + 1\n",
    "    # There is no current entry so you create a new series to append into the matchup and set the values as necessary\n",
    "    else:\n",
    "        score = pd.Series([Champ1, Champ2, 0, 1, role], index = [\"Champ1\", \"Champ2\", \"Win_Champ1\", \"Win_Champ2\", \"role\"]).rename(name)\n",
    "        mtchup = mtchup.append(score)\n",
    "print(mtchup)"
   ]
  },
  {
   "cell_type": "code",
   "execution_count": 274,
   "metadata": {},
   "outputs": [
    {
     "data": {
      "text/plain": [
       "True"
      ]
     },
     "execution_count": 274,
     "metadata": {},
     "output_type": "execute_result"
    }
   ],
   "source": [
    "val = match[(match.lane == 'BOTTOM') & (match.role == 'SUPPORT')]\n",
    "Champ1 = val.iloc[0]['champ']\n",
    "Champ2 = val.iloc[1]['champ']\n",
    "if val.iloc[0]['win']:\n",
    "    win = 'Champ1'\n",
    "else:\n",
    "    win = 'Champ2'\n",
    "val.iloc[0]\n",
    "score = pd.Series([Champ1, Champ2, win], index = [\"Champ1\", \"Champ2\", ])"
   ]
  },
  {
   "cell_type": "code",
   "execution_count": 263,
   "metadata": {},
   "outputs": [
    {
     "name": "stdout",
     "output_type": "stream",
     "text": [
      "        Champ1  Champ2  Win_Champ1  Win_Champ2\n",
      "0         Ahri  Aatrox         0.0         0.0\n",
      "1        Akali  Aatrox         0.0         0.0\n",
      "2      Alistar  Aatrox         0.0         0.0\n",
      "3        Amumu  Aatrox         0.0         0.0\n",
      "4       Anivia  Aatrox         0.0         0.0\n",
      "...        ...     ...         ...         ...\n",
      "10726      Zoe   Ziggs         0.0         0.0\n",
      "10727     Zyra   Ziggs         0.0         0.0\n",
      "10728      Zoe  Zilean         0.0         0.0\n",
      "10729     Zyra  Zilean         0.0         0.0\n",
      "10730     Zyra     Zoe         0.0         0.0\n",
      "\n",
      "[10731 rows x 4 columns]\n"
     ]
    }
   ],
   "source": [
    "# Table with all of the values of pairing put in for one role\n",
    "mtchup = pd.DataFrame(columns = [\"Champ1\", \"Champ2\", \"Win_Champ1\", \"Win_Champ2\"])\n",
    "for i in range(len(chmp)):\n",
    "    for j in range(len(chmp)):\n",
    "        one = chmp.iloc[j]['Name']\n",
    "        two = chmp.iloc[i]['Name']               \n",
    "        if one != two: # don't want mirror matchups for solo/duo\n",
    "            if mtchup[((mtchup.Champ1 == one) & (mtchup.Champ2 == two)) | ((mtchup.Champ1 == two) & (mtchup.Champ2 == one))].empty:\n",
    "                pairing = pd.Series([one, two], index = [\"Champ1\", \"Champ2\"])\n",
    "                mtchup = mtchup.append(pairing, ignore_index = True) \n",
    "mtchup = mtchup.fillna(0.0)\n",
    "print(mtchup)"
   ]
  },
  {
   "cell_type": "code",
   "execution_count": null,
   "metadata": {},
   "outputs": [],
   "source": [
    "# Testing for time as there is limitation on API\n",
    "t_end = time.time() + 60 * 15\n",
    "while time.time() < t_end:\n",
    "    # do whatever you do\n",
    "# This will run for 15 min x 60 s = 900 seconds.\n",
    "# Function time.time returns the current time in seconds since 1st Jan 1970.\n",
    "# https://stackoverflow.com/questions/3773869/limit-loop-to-n-iterations-per-minute"
   ]
  }
 ],
 "metadata": {
  "kernelspec": {
   "display_name": "Python 3",
   "language": "python",
   "name": "python3"
  },
  "language_info": {
   "codemirror_mode": {
    "name": "ipython",
    "version": 3
   },
   "file_extension": ".py",
   "mimetype": "text/x-python",
   "name": "python",
   "nbconvert_exporter": "python",
   "pygments_lexer": "ipython3",
   "version": "3.7.4"
  }
 },
 "nbformat": 4,
 "nbformat_minor": 2
}
