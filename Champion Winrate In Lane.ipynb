{
 "cells": [
  {
   "cell_type": "markdown",
   "metadata": {},
   "source": [
    "# Champion Winrate in Lane"
   ]
  },
  {
   "cell_type": "markdown",
   "metadata": {},
   "source": [
    "**Task One:** Provide a summarization of champion winrates in all lanes for Masters+ games in Ranked Solo/Duo queue for the current season.\n",
    "\n",
    "**Task Two:** Summarize champion lead through match times for every matchup.\n",
    "\n",
    "We will follow these steps: \\\n",
    "1) Connecting to a summoner profile through Riot Games API and finding the keys needed to find games. \\\n",
    "2) Extracting the champion, match Id, and role of each match played by the player for Ranked Solo/Duo Games. \\\n",
    "3) Repeat step 2 for Masters+ Tier of one server. \\\n",
    "4) Repeat steps 3 for KR and EUW servers.\n",
    "\n",
    "After steps 2-4, create a CSV file summarizing results to send to University of Washington League of Legends collegiate team."
   ]
  },
  {
   "cell_type": "code",
   "execution_count": 1,
   "metadata": {},
   "outputs": [],
   "source": [
    "import requests\n",
    "import json\n",
    "import pandas as pd\n",
    "import time"
   ]
  },
  {
   "cell_type": "markdown",
   "metadata": {},
   "source": [
    "### Part 0: Background Data "
   ]
  },
  {
   "cell_type": "markdown",
   "metadata": {},
   "source": [
    "Within Riot's API for matches, the champions only have Ids and no names associated with them. \\\n",
    "Before we investigate the matches separately, we need to have a dataset of champion ids with names. "
   ]
  },
  {
   "cell_type": "code",
   "execution_count": 142,
   "metadata": {},
   "outputs": [
    {
     "name": "stdout",
     "output_type": "stream",
     "text": [
      "        Name   ID\n",
      "6      Annie    1\n",
      "54     Kayle   10\n",
      "136   Xerath  101\n",
      "103  Shyvana  102\n",
      "1       Ahri  103\n",
      "..       ...  ...\n",
      "115    Talon   91\n",
      "96     Riven   92\n",
      "60    KogMaw   96\n",
      "102     Shen   98\n",
      "67       Lux   99\n",
      "\n",
      "[147 rows x 2 columns]\n"
     ]
    }
   ],
   "source": [
    "resp_chmp = requests.get('http://ddragon.leagueoflegends.com/cdn/9.24.2/data/en_US/champion.json')\n",
    "r3 = resp_chmp.json()\n",
    "r3 = r3['data']\n",
    "chmp_name = []\n",
    "for i in r3:\n",
    "    chmp_name.append(i)\n",
    "chmp = pd.DataFrame(columns =  [\"Name\", \"ID\"])\n",
    "for i in range(len(r3)):\n",
    "    name = chmp_name[i]\n",
    "    hold = pd.Series([name, r3[name]['key']], index = [\"Name\", \"ID\"])\n",
    "    chmp = chmp.append(hold, ignore_index = True)\n",
    "print(chmp.sort_values(by=['ID']))"
   ]
  },
  {
   "cell_type": "markdown",
   "metadata": {},
   "source": [
    "### Part 1: Extracting Data per User"
   ]
  },
  {
   "cell_type": "markdown",
   "metadata": {},
   "source": [
    "Investigating user match winrate data, we will proceed with the following steps: \\\n",
    "1) Find the accountId of the summoner through Riot Games API. \\\n",
    "2) Find the set of matches for a user through Riot Games API. \\\n",
    "3) Make a dataset of champion matchups and who won or lost along with the gameId. \\\n",
    "4) Create a statistical summary of findings. "
   ]
  },
  {
   "cell_type": "code",
   "execution_count": 81,
   "metadata": {},
   "outputs": [],
   "source": [
    "# 1) Find the accountId of the summoner through Riot Games API.\n",
    "# ------------------------------------------------------------------------------\n",
    "# Returns the accountId of a user using the summonerName and API Key the user has\n",
    "# Inputs:\n",
    "#   summonerName: Name within League of Legends, case and character sensitive\n",
    "#   APIKey: API Key from Riot Games \n",
    "def accId(summonerName, APIKey):\n",
    "    URL = \"https://na1.api.riotgames.com/tft/summoner/v1/summoners/by-name/\" + summonerName + \"?api_key=\" + APIKey\n",
    "    response = requests.get(URL)\n",
    "    r1 = response.json()\n",
    "    json.dumps(r1, indent = 3, sort_keys=True)\n",
    "    return r1['accountId']"
   ]
  },
  {
   "cell_type": "code",
   "execution_count": 143,
   "metadata": {},
   "outputs": [
    {
     "name": "stdout",
     "output_type": "stream",
     "text": [
      "Type your Summoner Name here and DO NOT INCLUDE ANY SPACES: Phume\n",
      "Copy and paste your API Key here: RGAPI-09379eb7-ce5e-4f05-b97a-39352ad7c9f2\n"
     ]
    }
   ],
   "source": [
    "# 2) Find the set of matches for a user through Riot Games API.\n",
    "# ------------------------------------------------------------------------------\n",
    "# Find the accountId to get all of the matches from the summoner.\n",
    "summonerName = (str)(input('Type your Summoner Name here and DO NOT INCLUDE ANY SPACES: '))\n",
    "APIKey = (str)(input('Copy and paste your API Key here: '))\n",
    "summ_accId = accId(summonerName, APIKey)\n",
    "URL = \"https://na1.api.riotgames.com/lol/match/v4/matchlists/by-account/\" + summ_accId + \"?api_key=\" + APIKey\n",
    "response = requests.get(URL)\n",
    "r1 = response.json()\n",
    "r1 = r1['matches']\n",
    "# r1 = (json.dumps(r1, indent = 3, sort_keys=True)) - only to view"
   ]
  },
  {
   "cell_type": "code",
   "execution_count": 144,
   "metadata": {},
   "outputs": [
    {
     "name": "stdout",
     "output_type": "stream",
     "text": [
      "{'platformId': 'NA1', 'gameId': 3235628023, 'champion': 89, 'queue': 400, 'season': 13, 'timestamp': 1576392563553, 'role': 'DUO_SUPPORT', 'lane': 'BOTTOM'}\n"
     ]
    }
   ],
   "source": [
    "print(r1[1])"
   ]
  },
  {
   "cell_type": "code",
   "execution_count": 169,
   "metadata": {},
   "outputs": [],
   "source": [
    "# Returns a summary of all solo queue matches from the summoner with their champion and gameId\n",
    "summ = pd.DataFrame(columns =  [\"region\", \"gameId\", \"lane\", \"role\", \"Name\"])\n",
    "for i in range(len(r1)):\n",
    "    if r1[i]['queue'] == 420:\n",
    "        platformId = r1[i]['platformId']\n",
    "        gameId = r1[i]['gameId'] \n",
    "        lane = r1[i]['lane']\n",
    "        role = r1[i]['role']\n",
    "        arr = chmp.loc[chmp['ID'] == str(r1[i]['champion'])]['Name'].array\n",
    "        name = arr[0]\n",
    "        hold = pd.Series([platformId, gameId, lane, role, name], index = [\"region\", \"gameId\", \"lane\", \"role\", \"Name\"])\n",
    "        summ = summ.append(hold, ignore_index = True)\n",
    "\n",
    "# We need to dive into the game and find the champion they are going against as well. We only have the championname.\n",
    "# Use the gameId. Limited by number of API calls though for every gameId, so make sure unique."
   ]
  },
  {
   "cell_type": "code",
   "execution_count": 220,
   "metadata": {},
   "outputs": [
    {
     "name": "stdout",
     "output_type": "stream",
     "text": [
      "      champ    win    lane          role\n",
      "0    Yorick   True     TOP          SOLO\n",
      "1  JarvanIV   True  JUNGLE          NONE\n",
      "2    Syndra   True  MIDDLE          SOLO\n",
      "3    Soraka   True  BOTTOM       SUPPORT\n",
      "4    Veigar   True  BOTTOM  BOTTOM_CARRY\n",
      "5    Draven  False  BOTTOM  BOTTOM_CARRY\n",
      "6   Karthus  False  JUNGLE          NONE\n",
      "7    Rumble  False     TOP          SOLO\n",
      "8     Swain  False  MIDDLE          SOLO\n",
      "9     Leona  False  BOTTOM       SUPPORT\n"
     ]
    },
    {
     "data": {
      "text/html": [
       "<div>\n",
       "<style scoped>\n",
       "    .dataframe tbody tr th:only-of-type {\n",
       "        vertical-align: middle;\n",
       "    }\n",
       "\n",
       "    .dataframe tbody tr th {\n",
       "        vertical-align: top;\n",
       "    }\n",
       "\n",
       "    .dataframe thead th {\n",
       "        text-align: right;\n",
       "    }\n",
       "</style>\n",
       "<table border=\"1\" class=\"dataframe\">\n",
       "  <thead>\n",
       "    <tr style=\"text-align: right;\">\n",
       "      <th></th>\n",
       "      <th>champ</th>\n",
       "      <th>win</th>\n",
       "      <th>lane</th>\n",
       "      <th>role</th>\n",
       "    </tr>\n",
       "  </thead>\n",
       "  <tbody>\n",
       "    <tr>\n",
       "      <td>0</td>\n",
       "      <td>Yorick</td>\n",
       "      <td>True</td>\n",
       "      <td>TOP</td>\n",
       "      <td>SOLO</td>\n",
       "    </tr>\n",
       "    <tr>\n",
       "      <td>1</td>\n",
       "      <td>JarvanIV</td>\n",
       "      <td>True</td>\n",
       "      <td>JUNGLE</td>\n",
       "      <td>NONE</td>\n",
       "    </tr>\n",
       "    <tr>\n",
       "      <td>2</td>\n",
       "      <td>Syndra</td>\n",
       "      <td>True</td>\n",
       "      <td>MIDDLE</td>\n",
       "      <td>SOLO</td>\n",
       "    </tr>\n",
       "    <tr>\n",
       "      <td>3</td>\n",
       "      <td>Soraka</td>\n",
       "      <td>True</td>\n",
       "      <td>BOTTOM</td>\n",
       "      <td>SUPPORT</td>\n",
       "    </tr>\n",
       "    <tr>\n",
       "      <td>4</td>\n",
       "      <td>Veigar</td>\n",
       "      <td>True</td>\n",
       "      <td>BOTTOM</td>\n",
       "      <td>BOTTOM_CARRY</td>\n",
       "    </tr>\n",
       "  </tbody>\n",
       "</table>\n",
       "</div>"
      ],
      "text/plain": [
       "      champ   win    lane          role\n",
       "0    Yorick  True     TOP          SOLO\n",
       "1  JarvanIV  True  JUNGLE          NONE\n",
       "2    Syndra  True  MIDDLE          SOLO\n",
       "3    Soraka  True  BOTTOM       SUPPORT\n",
       "4    Veigar  True  BOTTOM  BOTTOM_CARRY"
      ]
     },
     "execution_count": 220,
     "metadata": {},
     "output_type": "execute_result"
    }
   ],
   "source": [
    "gameId = \"3225011906\"\n",
    "URL_mch = \"https://na1.api.riotgames.com/lol/match/v4/matches/\" + gameId + \"?api_key=\" + APIKey\n",
    "response = requests.get(URL_mch)\n",
    "r1 = response.json()\n",
    "# print(r1['participants'])\n",
    "r1 = r1['participants']\n",
    "match = pd.DataFrame(columns =  [\"champ\", \"win\", \"lane\", \"role\"])\n",
    "against = pd.DataFrame(columns = [\"Champ1\", \"Champ2\", \"role\", \"win\"])\n",
    "for i in range(len(r1)):\n",
    "    arr = chmp.loc[chmp['ID'] == str(r1[i]['championId'])]['Name'].array\n",
    "    name = arr[0]\n",
    "    win = r1[i]['stats']['win']\n",
    "    lane = r1[i]['timeline']['lane']\n",
    "    role = r1[i]['timeline']['role']\n",
    "    if role == \"DUO_SUPPORT\":\n",
    "        role = \"SUPPORT\"\n",
    "    elif role == \"DUO_CARRY\":\n",
    "        role = \"BOTTOM_CARRY\"\n",
    "    entry = pd.Series([name, win, lane, role], index = [\"champ\", \"win\", \"lane\", \"role\"])\n",
    "    match = match.append(entry, ignore_index = True)\n",
    "\n",
    "print(match)\n"
   ]
  },
  {
   "cell_type": "code",
   "execution_count": 283,
   "metadata": {},
   "outputs": [
    {
     "ename": "IndexingError",
     "evalue": "Too many indexers",
     "output_type": "error",
     "traceback": [
      "\u001b[0;31m---------------------------------------------------------------------------\u001b[0m",
      "\u001b[0;31mIndexingError\u001b[0m                             Traceback (most recent call last)",
      "\u001b[0;32m<ipython-input-283-7fa17d9ea6a6>\u001b[0m in \u001b[0;36m<module>\u001b[0;34m\u001b[0m\n\u001b[1;32m     12\u001b[0m         \u001b[0mscore\u001b[0m \u001b[0;34m=\u001b[0m \u001b[0mpd\u001b[0m\u001b[0;34m.\u001b[0m\u001b[0mSeries\u001b[0m\u001b[0;34m(\u001b[0m\u001b[0;34m[\u001b[0m\u001b[0mChamp1\u001b[0m\u001b[0;34m,\u001b[0m \u001b[0mChamp2\u001b[0m\u001b[0;34m,\u001b[0m \u001b[0mrole\u001b[0m\u001b[0;34m]\u001b[0m\u001b[0;34m,\u001b[0m \u001b[0mindex\u001b[0m \u001b[0;34m=\u001b[0m \u001b[0;34m[\u001b[0m\u001b[0;34m\"Champ1\"\u001b[0m\u001b[0;34m,\u001b[0m \u001b[0;34m\"Champ2\"\u001b[0m\u001b[0;34m,\u001b[0m \u001b[0;34m\"role\"\u001b[0m\u001b[0;34m]\u001b[0m\u001b[0;34m)\u001b[0m\u001b[0;34m\u001b[0m\u001b[0;34m\u001b[0m\u001b[0m\n\u001b[1;32m     13\u001b[0m         \u001b[0mmtchup\u001b[0m\u001b[0;34m.\u001b[0m\u001b[0mappend\u001b[0m\u001b[0;34m(\u001b[0m\u001b[0mscore\u001b[0m\u001b[0;34m,\u001b[0m \u001b[0mignore_index\u001b[0m \u001b[0;34m=\u001b[0m \u001b[0;32mTrue\u001b[0m\u001b[0;34m)\u001b[0m\u001b[0;34m\u001b[0m\u001b[0;34m\u001b[0m\u001b[0m\n\u001b[0;32m---> 14\u001b[0;31m         \u001b[0mmtchup\u001b[0m\u001b[0;34m.\u001b[0m\u001b[0mloc\u001b[0m\u001b[0;34m[\u001b[0m\u001b[0mChamp1\u001b[0m \u001b[0;34m==\u001b[0m \u001b[0mChamp1\u001b[0m\u001b[0;34m,\u001b[0m \u001b[0mChamp2\u001b[0m \u001b[0;34m==\u001b[0m \u001b[0mChamp2\u001b[0m\u001b[0;34m,\u001b[0m \u001b[0mrole\u001b[0m \u001b[0;34m==\u001b[0m \u001b[0mrole\u001b[0m\u001b[0;34m]\u001b[0m\u001b[0;34m[\u001b[0m\u001b[0;34m'Win_Champ2'\u001b[0m\u001b[0;34m]\u001b[0m\u001b[0;34m.\u001b[0m\u001b[0mset_value\u001b[0m\u001b[0;34m(\u001b[0m\u001b[0;36m1\u001b[0m\u001b[0;34m)\u001b[0m\u001b[0;34m\u001b[0m\u001b[0;34m\u001b[0m\u001b[0m\n\u001b[0m\u001b[1;32m     15\u001b[0m         \u001b[0mmtchup\u001b[0m\u001b[0;34m.\u001b[0m\u001b[0mloc\u001b[0m\u001b[0;34m[\u001b[0m\u001b[0mChamp1\u001b[0m \u001b[0;34m==\u001b[0m \u001b[0mChamp1\u001b[0m\u001b[0;34m,\u001b[0m \u001b[0mChamp2\u001b[0m \u001b[0;34m==\u001b[0m \u001b[0mChamp2\u001b[0m\u001b[0;34m,\u001b[0m \u001b[0mrole\u001b[0m \u001b[0;34m==\u001b[0m \u001b[0mrole\u001b[0m\u001b[0;34m]\u001b[0m\u001b[0;34m[\u001b[0m\u001b[0;34m'Win_Champ1'\u001b[0m\u001b[0;34m]\u001b[0m\u001b[0;34m.\u001b[0m\u001b[0mset_value\u001b[0m\u001b[0;34m(\u001b[0m\u001b[0;36m1\u001b[0m\u001b[0;34m)\u001b[0m\u001b[0;34m\u001b[0m\u001b[0;34m\u001b[0m\u001b[0m\n\u001b[1;32m     16\u001b[0m \u001b[0;34m\u001b[0m\u001b[0m\n",
      "\u001b[0;32m/opt/anaconda3/lib/python3.7/site-packages/pandas/core/indexing.py\u001b[0m in \u001b[0;36m__getitem__\u001b[0;34m(self, key)\u001b[0m\n\u001b[1;32m   1416\u001b[0m                 \u001b[0;32mexcept\u001b[0m \u001b[0;34m(\u001b[0m\u001b[0mKeyError\u001b[0m\u001b[0;34m,\u001b[0m \u001b[0mIndexError\u001b[0m\u001b[0;34m,\u001b[0m \u001b[0mAttributeError\u001b[0m\u001b[0;34m)\u001b[0m\u001b[0;34m:\u001b[0m\u001b[0;34m\u001b[0m\u001b[0;34m\u001b[0m\u001b[0m\n\u001b[1;32m   1417\u001b[0m                     \u001b[0;32mpass\u001b[0m\u001b[0;34m\u001b[0m\u001b[0;34m\u001b[0m\u001b[0m\n\u001b[0;32m-> 1418\u001b[0;31m             \u001b[0;32mreturn\u001b[0m \u001b[0mself\u001b[0m\u001b[0;34m.\u001b[0m\u001b[0m_getitem_tuple\u001b[0m\u001b[0;34m(\u001b[0m\u001b[0mkey\u001b[0m\u001b[0;34m)\u001b[0m\u001b[0;34m\u001b[0m\u001b[0;34m\u001b[0m\u001b[0m\n\u001b[0m\u001b[1;32m   1419\u001b[0m         \u001b[0;32melse\u001b[0m\u001b[0;34m:\u001b[0m\u001b[0;34m\u001b[0m\u001b[0;34m\u001b[0m\u001b[0m\n\u001b[1;32m   1420\u001b[0m             \u001b[0;31m# we by definition only have the 0th axis\u001b[0m\u001b[0;34m\u001b[0m\u001b[0;34m\u001b[0m\u001b[0;34m\u001b[0m\u001b[0m\n",
      "\u001b[0;32m/opt/anaconda3/lib/python3.7/site-packages/pandas/core/indexing.py\u001b[0m in \u001b[0;36m_getitem_tuple\u001b[0;34m(self, tup)\u001b[0m\n\u001b[1;32m    808\u001b[0m \u001b[0;34m\u001b[0m\u001b[0m\n\u001b[1;32m    809\u001b[0m         \u001b[0;31m# no multi-index, so validate all of the indexers\u001b[0m\u001b[0;34m\u001b[0m\u001b[0;34m\u001b[0m\u001b[0;34m\u001b[0m\u001b[0m\n\u001b[0;32m--> 810\u001b[0;31m         \u001b[0mself\u001b[0m\u001b[0;34m.\u001b[0m\u001b[0m_has_valid_tuple\u001b[0m\u001b[0;34m(\u001b[0m\u001b[0mtup\u001b[0m\u001b[0;34m)\u001b[0m\u001b[0;34m\u001b[0m\u001b[0;34m\u001b[0m\u001b[0m\n\u001b[0m\u001b[1;32m    811\u001b[0m \u001b[0;34m\u001b[0m\u001b[0m\n\u001b[1;32m    812\u001b[0m         \u001b[0;31m# ugly hack for GH #836\u001b[0m\u001b[0;34m\u001b[0m\u001b[0;34m\u001b[0m\u001b[0;34m\u001b[0m\u001b[0m\n",
      "\u001b[0;32m/opt/anaconda3/lib/python3.7/site-packages/pandas/core/indexing.py\u001b[0m in \u001b[0;36m_has_valid_tuple\u001b[0;34m(self, key)\u001b[0m\n\u001b[1;32m    231\u001b[0m         \u001b[0;32mfor\u001b[0m \u001b[0mi\u001b[0m\u001b[0;34m,\u001b[0m \u001b[0mk\u001b[0m \u001b[0;32min\u001b[0m \u001b[0menumerate\u001b[0m\u001b[0;34m(\u001b[0m\u001b[0mkey\u001b[0m\u001b[0;34m)\u001b[0m\u001b[0;34m:\u001b[0m\u001b[0;34m\u001b[0m\u001b[0;34m\u001b[0m\u001b[0m\n\u001b[1;32m    232\u001b[0m             \u001b[0;32mif\u001b[0m \u001b[0mi\u001b[0m \u001b[0;34m>=\u001b[0m \u001b[0mself\u001b[0m\u001b[0;34m.\u001b[0m\u001b[0mobj\u001b[0m\u001b[0;34m.\u001b[0m\u001b[0mndim\u001b[0m\u001b[0;34m:\u001b[0m\u001b[0;34m\u001b[0m\u001b[0;34m\u001b[0m\u001b[0m\n\u001b[0;32m--> 233\u001b[0;31m                 \u001b[0;32mraise\u001b[0m \u001b[0mIndexingError\u001b[0m\u001b[0;34m(\u001b[0m\u001b[0;34m\"Too many indexers\"\u001b[0m\u001b[0;34m)\u001b[0m\u001b[0;34m\u001b[0m\u001b[0;34m\u001b[0m\u001b[0m\n\u001b[0m\u001b[1;32m    234\u001b[0m             \u001b[0;32mtry\u001b[0m\u001b[0;34m:\u001b[0m\u001b[0;34m\u001b[0m\u001b[0;34m\u001b[0m\u001b[0m\n\u001b[1;32m    235\u001b[0m                 \u001b[0mself\u001b[0m\u001b[0;34m.\u001b[0m\u001b[0m_validate_key\u001b[0m\u001b[0;34m(\u001b[0m\u001b[0mk\u001b[0m\u001b[0;34m,\u001b[0m \u001b[0mi\u001b[0m\u001b[0;34m)\u001b[0m\u001b[0;34m\u001b[0m\u001b[0;34m\u001b[0m\u001b[0m\n",
      "\u001b[0;31mIndexingError\u001b[0m: Too many indexers"
     ]
    }
   ],
   "source": [
    "mtchup = pd.DataFrame(columns = [\"Champ1\", \"Champ2\", \"Win_Champ1\", \"Win_Champ2\", \"role\"])\n",
    "match.sort_values(by=['lane', 'role', 'win'])\n",
    "for i in range(0, len(match), 2):\n",
    "    Champ1 = match.iloc[i]['champ']\n",
    "    Champ2 = match.iloc[i + 1]['champ'] # we always know the second champ won\n",
    "    role = match.iloc[i]['role']\n",
    "    if not(mtchup[(mtchup.Champ1 == Champ1) & (mtchup.Champ2 == Champ2)].empty):\n",
    "        mtchup.loc[Champ1 == Champ1, Champ2 == Champ2, role == role]['Win_Champ2'].add(1)\n",
    "    elif not(mtchup[(mtchup.Champ1 == Champ1) & (mtchup.Champ2 == Champ2)].empty):\n",
    "        mtchup.loc[Champ1 == Champ2, Champ2 == Champ1, role == role]['Win_Champ1'].add(1)\n",
    "    else:\n",
    "        score = pd.Series([Champ1, Champ2, role], index = [\"Champ1\", \"Champ2\", \"role\"])\n",
    "        mtchup.append(score, ignore_index = True)\n",
    "        mtchup.loc[Champ1 == Champ1, Champ2 == Champ2, role == role]['Win_Champ2'].set_value(1)\n",
    "        mtchup.loc[Champ1 == Champ1, Champ2 == Champ2, role == role]['Win_Champ1'].set_value(0)\n",
    "        "
   ]
  },
  {
   "cell_type": "code",
   "execution_count": 274,
   "metadata": {},
   "outputs": [
    {
     "data": {
      "text/plain": [
       "True"
      ]
     },
     "execution_count": 274,
     "metadata": {},
     "output_type": "execute_result"
    }
   ],
   "source": [
    "val = match[(match.lane == 'BOTTOM') & (match.role == 'SUPPORT')]\n",
    "Champ1 = val.iloc[0]['champ']\n",
    "Champ2 = val.iloc[1]['champ']\n",
    "if val.iloc[0]['win']:\n",
    "    win = 'Champ1'\n",
    "else:\n",
    "    win = 'Champ2'\n",
    "val.iloc[0]\n",
    "score = pd.Series([Champ1, Champ2, win], index = [\"Champ1\", \"Champ2\", ])"
   ]
  },
  {
   "cell_type": "code",
   "execution_count": 263,
   "metadata": {},
   "outputs": [
    {
     "name": "stdout",
     "output_type": "stream",
     "text": [
      "        Champ1  Champ2  Win_Champ1  Win_Champ2\n",
      "0         Ahri  Aatrox         0.0         0.0\n",
      "1        Akali  Aatrox         0.0         0.0\n",
      "2      Alistar  Aatrox         0.0         0.0\n",
      "3        Amumu  Aatrox         0.0         0.0\n",
      "4       Anivia  Aatrox         0.0         0.0\n",
      "...        ...     ...         ...         ...\n",
      "10726      Zoe   Ziggs         0.0         0.0\n",
      "10727     Zyra   Ziggs         0.0         0.0\n",
      "10728      Zoe  Zilean         0.0         0.0\n",
      "10729     Zyra  Zilean         0.0         0.0\n",
      "10730     Zyra     Zoe         0.0         0.0\n",
      "\n",
      "[10731 rows x 4 columns]\n"
     ]
    }
   ],
   "source": [
    "# Table with all of the values of pairing \n",
    "mtchup = pd.DataFrame(columns = [\"Champ1\", \"Champ2\", \"Win_Champ1\", \"Win_Champ2\"])\n",
    "for i in range(len(chmp)):\n",
    "    for j in range(len(chmp)):\n",
    "        one = chmp.iloc[j]['Name']\n",
    "        two = chmp.iloc[i]['Name']               \n",
    "        if one != two: # don't want mirror matchups for solo/duo\n",
    "            if mtchup[((mtchup.Champ1 == one) & (mtchup.Champ2 == two)) | ((mtchup.Champ1 == two) & (mtchup.Champ2 == one))].empty:\n",
    "                pairing = pd.Series([one, two], index = [\"Champ1\", \"Champ2\"])\n",
    "                mtchup = mtchup.append(pairing, ignore_index = True) \n",
    "mtchup = mtchup.fillna(0.0)\n",
    "print(mtchup)"
   ]
  },
  {
   "cell_type": "code",
   "execution_count": null,
   "metadata": {},
   "outputs": [],
   "source": [
    "t_end = time.time() + 60 * 15\n",
    "while time.time() < t_end:\n",
    "    # do whatever you do\n",
    "# This will run for 15 min x 60 s = 900 seconds.\n",
    "# Function time.time returns the current time in seconds since 1st Jan 1970.\n",
    "# https://stackoverflow.com/questions/3773869/limit-loop-to-n-iterations-per-minute"
   ]
  },
  {
   "cell_type": "code",
   "execution_count": 256,
   "metadata": {},
   "outputs": [
    {
     "data": {
      "text/plain": [
       "False"
      ]
     },
     "execution_count": 256,
     "metadata": {},
     "output_type": "execute_result"
    }
   ],
   "source": [
    "chmp.Name.empty"
   ]
  }
 ],
 "metadata": {
  "kernelspec": {
   "display_name": "Python 3",
   "language": "python",
   "name": "python3"
  },
  "language_info": {
   "codemirror_mode": {
    "name": "ipython",
    "version": 3
   },
   "file_extension": ".py",
   "mimetype": "text/x-python",
   "name": "python",
   "nbconvert_exporter": "python",
   "pygments_lexer": "ipython3",
   "version": "3.7.4"
  }
 },
 "nbformat": 4,
 "nbformat_minor": 2
}
